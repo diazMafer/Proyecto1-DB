{
 "cells": [
  {
   "cell_type": "code",
   "execution_count": 11,
   "metadata": {},
   "outputs": [
    {
     "name": "stdout",
     "output_type": "stream",
     "text": [
      "The sql extension is already loaded. To reload it, use:\n",
      "  %reload_ext sql\n"
     ]
    }
   "source": [
    "%load_ext sql"
   ]
  },
  {
   "cell_type": "code",
   "execution_count": 12,
   "metadata": {},
   "outputs": [
    {
     "data": {
      "text/plain": [
       "u'Connected: @proyecto1.db'"
      ]
     },
     "execution_count": 12,
     "metadata": {},
     "output_type": "execute_result"
    }
   ],
   "source": [
    "%sql sqlite:///proyecto1.db"
   ]
  },
  {
   "cell_type": "markdown",
   "metadata": {},
   "source": [
    "## PREGUNTA 1: \n",
    "¿Cuáles son las cinco aerolíneas que han cancelado - proporcionalmente - menos vuelos? "
   ]
  },
  {
   "cell_type": "code",
   "execution_count": 13,
   "metadata": {},
   "outputs": [
    {
     "name": "stdout",
     "output_type": "stream",
     "text": [
      " * sqlite:///proyecto1.db\n",
      "(sqlite3.OperationalError) no such table: ontime [SQL: u'SELECT (COUNT(*)*1.0*100)/Cancelados as Porcentaje, Reporting_Airline\\nFROM ontime, \\n(\\n    SELECT COUNT(*) as Cancelados\\n    FROM ontime\\n    WHERE Cancelled = 1 and CancellationCode = \"A\"\\n)\\nWHERE Cancelled = 1 and CancellationCode = \"A\"\\nGROUP BY Reporting_Airline\\nORDER BY Porcentaje ASC'] (Background on this error at: http://sqlalche.me/e/e3q8)\n"
     ]
    }
   ],
   "source": [
    "%%sql\n",
    "SELECT (COUNT(*)*1.0*100)/Cancelados as Porcentaje, Reporting_Airline\n",
    "FROM ontime, \n",
    "(\n",
    "    SELECT COUNT(*) as Cancelados\n",
    "    FROM ontime\n",
    "    WHERE Cancelled = 1 and CancellationCode = \"A\"\n",
    ")\n",
    "WHERE Cancelled = 1 and CancellationCode = \"A\"\n",
    "GROUP BY Reporting_Airline\n",
    "ORDER BY Porcentaje ASC"
   ]
  },
  {
   "cell_type": "code",
   "execution_count": null,
   "metadata": {},
   "outputs": [],
   "source": []
  },
  {
   "cell_type": "markdown",
   "metadata": {},
   "source": [
    "## PREGUNTA 2: \n",
    "\n",
    "¿Cuáles son las cinco aerolíneas que tienen la mayor cantidad de estados como destino?"
   ]
  },
  {
   "cell_type": "code",
   "execution_count": null,
   "metadata": {},
   "outputs": [],
   "source": [
    "%%sql\n",
    "SELECT unique_carriers.Description as aerolinea, COUNT(DISTINCT DestStateNm) as cantidad_estados\n",
    "FROM ontime\n",
    "INNER JOIN unique_carriers ON IATA_CODE_Reporting_Airline = code\n",
    "GROUP BY IATA_CODE_Reporting_Airline\n",
    "ORDER BY COUNT(DISTINCT DestStateNm) DESC"
   ]
  },
  {
   "cell_type": "code",
   "execution_count": null,
   "metadata": {},
   "outputs": [],
   "source": []
  },
  {
   "cell_type": "markdown",
   "metadata": {},
   "source": [
    "## PREGUNTA 3: \n",
    "¿Cuáles son las aerolíneas que mayor tiempo de adelanto han logrado tener en sus vuelos?   "
   ]
  },
  {
   "cell_type": "code",
   "execution_count": null,
   "metadata": {},
   "outputs": [],
   "source": [
    "%%sql\n"
   ]
  },
  {
   "cell_type": "code",
   "execution_count": null,
   "metadata": {},
   "outputs": [],
   "source": []
  },
  {
   "cell_type": "markdown",
   "metadata": {},
   "source": [
    "## PREGUNTA 4: \n",
    "¿Qué 5 aerolíneas tienen la menor aportación porcentual al total de tiempos de retraso de llegada de todos los vuelos?"
   ]
  },
  {
   "cell_type": "code",
   "execution_count": null,
   "metadata": {},
   "outputs": [],
   "source": [
    "%%sql\n"
   ]
  },
  {
   "cell_type": "code",
   "execution_count": null,
   "metadata": {},
   "outputs": [],
   "source": []
  },
  {
   "cell_type": "markdown",
   "metadata": {},
   "source": [
    "## PREGUNTA 5: \n",
    "\n",
    "¿Cuál es la frecuencia de vuelos para las aerolíneas que tienen menor tiempo de retraso y menor cantidad de vuelos cancelados?"
   ]
  },
  {
   "cell_type": "code",
   "execution_count": null,
   "metadata": {},
   "outputs": [],
   "source": [
    "%%sql\n"
   ]
  },
  {
   "cell_type": "code",
   "execution_count": null,
   "metadata": {},
   "outputs": [],
   "source": []
  },
  {
   "cell_type": "markdown",
   "metadata": {},
   "source": [
    "## PREGUNTA 6: \n",
    "\n",
    "¿Cuál es la proporción o razón de distancia total recorrida (de todas las aeronaves) respecto a la cantidad de vuelos?"
   ]
  },
  {
   "cell_type": "code",
   "execution_count": null,
   "metadata": {},
   "outputs": [],
   "source": [
    "%%sql\n"
   ]
  },
  {
   "cell_type": "markdown",
   "metadata": {},
   "source": [
    "## PREGUNTA 7: \n",
    "\n",
    "¿Cuáles 5 aerolíneas tienen predichas el mayor crecimiento en operaciones?"
   ]
  },
  {
   "cell_type": "code",
   "execution_count": null,
   "metadata": {},
   "outputs": [],
   "source": [
    "%%sql\n"
   ]
  },
  {
   "cell_type": "markdown",
   "metadata": {},
   "source": [
    "## PREGUNTA 8: \n",
    "\n",
    "¿Cuáles aerolíneas tienen la mayor cantidad de vuelos en los estados más poblados?"
   ]
  },
  {
   "cell_type": "code",
   "execution_count": null,
   "metadata": {},
   "outputs": [],
   "source": [
    "\n",
    "%%sql\n"
   ]
  },
  {
   "cell_type": "code",
   "execution_count": null,
   "metadata": {},
   "outputs": [],
   "source": []
  },
  {
   "cell_type": "markdown",
   "metadata": {},
   "source": [
    "## PREGUNTA 9: \n",
    "\n",
    "De las aerolíneas que tienen menor tiempo de retraso y llegan antes, ¿Cuál es su velocidad promedio en sus vuelos?"
   ]
  },
  {
   "cell_type": "code",
   "execution_count": null,
   "metadata": {},
   "outputs": [],
   "source": [
    "%%sql\n"
   ]
  },
  {
   "cell_type": "code",
   "execution_count": null,
   "metadata": {},
   "outputs": [],
   "source": []
  },
  {
   "cell_type": "markdown",
   "metadata": {},
   "source": [
    "## PREGUNTA 10: \n",
    "\n",
    "Para las aerolíneas con los vuelos que recorrieron las distancias mayores, ¿Cuál es su eficiencia (tiempo en el aire) respecto a la distancia que recorren?"
   ]
  },
  {
   "cell_type": "code",
   "execution_count": null,
   "metadata": {},
   "outputs": [],
   "source": [
    "%%sql\n"
   ]
  },
  {
   "cell_type": "code",
   "execution_count": null,
   "metadata": {},
   "outputs": [],
   "source": []
  }
 ],
 "metadata": {
  "kernelspec": {
   "display_name": "Python 2",
   "language": "python",
   "name": "python2"
  },
  "language_info": {
   "codemirror_mode": {
    "name": "ipython",
    "version": 2
   },
   "file_extension": ".py",
   "mimetype": "text/x-python",
   "name": "python",
   "nbconvert_exporter": "python",
   "pygments_lexer": "ipython2",
   "version": "2.7.15"
  }
 },
 "nbformat": 4,
 "nbformat_minor": 2
}
